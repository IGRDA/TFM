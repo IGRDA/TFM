{
 "cells": [
  {
   "cell_type": "markdown",
   "id": "ee32cede",
   "metadata": {},
   "source": [
    "## This notebook was created in ad hoc mode for calculating the Kolmogorov–Smirnov test and the q-q plot of the best model ($\\alpha$-stable)"
   ]
  },
  {
   "cell_type": "code",
   "execution_count": 1,
   "id": "189a7ae1",
   "metadata": {},
   "outputs": [],
   "source": [
    "from datetime import datetime\n",
    "import numpy as np\n",
    "import pandas_datareader as pdr\n",
    "from datetime import datetime\n",
    "import pandas as pd\n",
    "import scipy.stats as st\n",
    "from functools import partial\n",
    "from statsmodels.graphics.gofplots import qqplot\n",
    "from matplotlib import pyplot as plt\n",
    "import alPhaStablePricer as alpha"
   ]
  },
  {
   "cell_type": "code",
   "execution_count": 2,
   "id": "d546b5f9",
   "metadata": {},
   "outputs": [
    {
     "data": {
      "text/html": [
       "<div>\n",
       "<style scoped>\n",
       "    .dataframe tbody tr th:only-of-type {\n",
       "        vertical-align: middle;\n",
       "    }\n",
       "\n",
       "    .dataframe tbody tr th {\n",
       "        vertical-align: top;\n",
       "    }\n",
       "\n",
       "    .dataframe thead th {\n",
       "        text-align: right;\n",
       "    }\n",
       "</style>\n",
       "<table border=\"1\" class=\"dataframe\">\n",
       "  <thead>\n",
       "    <tr style=\"text-align: right;\">\n",
       "      <th></th>\n",
       "      <th>High</th>\n",
       "      <th>Low</th>\n",
       "      <th>Open</th>\n",
       "      <th>Close</th>\n",
       "      <th>Volume</th>\n",
       "      <th>Adj Close</th>\n",
       "    </tr>\n",
       "    <tr>\n",
       "      <th>Date</th>\n",
       "      <th></th>\n",
       "      <th></th>\n",
       "      <th></th>\n",
       "      <th></th>\n",
       "      <th></th>\n",
       "      <th></th>\n",
       "    </tr>\n",
       "  </thead>\n",
       "  <tbody>\n",
       "    <tr>\n",
       "      <th>2016-06-28</th>\n",
       "      <td>23.415001</td>\n",
       "      <td>23.035000</td>\n",
       "      <td>23.225000</td>\n",
       "      <td>23.397499</td>\n",
       "      <td>161779600.0</td>\n",
       "      <td>21.857594</td>\n",
       "    </tr>\n",
       "    <tr>\n",
       "      <th>2016-06-29</th>\n",
       "      <td>23.637501</td>\n",
       "      <td>23.407499</td>\n",
       "      <td>23.492500</td>\n",
       "      <td>23.600000</td>\n",
       "      <td>146124000.0</td>\n",
       "      <td>22.046766</td>\n",
       "    </tr>\n",
       "    <tr>\n",
       "      <th>2016-06-30</th>\n",
       "      <td>23.942499</td>\n",
       "      <td>23.575001</td>\n",
       "      <td>23.610001</td>\n",
       "      <td>23.900000</td>\n",
       "      <td>143345600.0</td>\n",
       "      <td>22.327021</td>\n",
       "    </tr>\n",
       "    <tr>\n",
       "      <th>2016-07-01</th>\n",
       "      <td>24.117500</td>\n",
       "      <td>23.832500</td>\n",
       "      <td>23.872499</td>\n",
       "      <td>23.972500</td>\n",
       "      <td>104106000.0</td>\n",
       "      <td>22.394749</td>\n",
       "    </tr>\n",
       "    <tr>\n",
       "      <th>2016-07-05</th>\n",
       "      <td>23.850000</td>\n",
       "      <td>23.615000</td>\n",
       "      <td>23.847500</td>\n",
       "      <td>23.747499</td>\n",
       "      <td>110820800.0</td>\n",
       "      <td>22.184555</td>\n",
       "    </tr>\n",
       "    <tr>\n",
       "      <th>...</th>\n",
       "      <td>...</td>\n",
       "      <td>...</td>\n",
       "      <td>...</td>\n",
       "      <td>...</td>\n",
       "      <td>...</td>\n",
       "      <td>...</td>\n",
       "    </tr>\n",
       "    <tr>\n",
       "      <th>2021-06-14</th>\n",
       "      <td>130.539993</td>\n",
       "      <td>127.070000</td>\n",
       "      <td>127.820000</td>\n",
       "      <td>130.479996</td>\n",
       "      <td>96906500.0</td>\n",
       "      <td>130.479996</td>\n",
       "    </tr>\n",
       "    <tr>\n",
       "      <th>2021-06-15</th>\n",
       "      <td>130.600006</td>\n",
       "      <td>129.389999</td>\n",
       "      <td>129.940002</td>\n",
       "      <td>129.639999</td>\n",
       "      <td>62746300.0</td>\n",
       "      <td>129.639999</td>\n",
       "    </tr>\n",
       "    <tr>\n",
       "      <th>2021-06-16</th>\n",
       "      <td>130.889999</td>\n",
       "      <td>128.460007</td>\n",
       "      <td>130.369995</td>\n",
       "      <td>130.149994</td>\n",
       "      <td>91815000.0</td>\n",
       "      <td>130.149994</td>\n",
       "    </tr>\n",
       "    <tr>\n",
       "      <th>2021-06-17</th>\n",
       "      <td>132.550003</td>\n",
       "      <td>129.649994</td>\n",
       "      <td>129.800003</td>\n",
       "      <td>131.789993</td>\n",
       "      <td>96721700.0</td>\n",
       "      <td>131.789993</td>\n",
       "    </tr>\n",
       "    <tr>\n",
       "      <th>2021-06-18</th>\n",
       "      <td>131.509995</td>\n",
       "      <td>130.240005</td>\n",
       "      <td>130.710007</td>\n",
       "      <td>130.460007</td>\n",
       "      <td>108787300.0</td>\n",
       "      <td>130.460007</td>\n",
       "    </tr>\n",
       "  </tbody>\n",
       "</table>\n",
       "<p>1253 rows × 6 columns</p>\n",
       "</div>"
      ],
      "text/plain": [
       "                  High         Low        Open       Close       Volume  \\\n",
       "Date                                                                      \n",
       "2016-06-28   23.415001   23.035000   23.225000   23.397499  161779600.0   \n",
       "2016-06-29   23.637501   23.407499   23.492500   23.600000  146124000.0   \n",
       "2016-06-30   23.942499   23.575001   23.610001   23.900000  143345600.0   \n",
       "2016-07-01   24.117500   23.832500   23.872499   23.972500  104106000.0   \n",
       "2016-07-05   23.850000   23.615000   23.847500   23.747499  110820800.0   \n",
       "...                ...         ...         ...         ...          ...   \n",
       "2021-06-14  130.539993  127.070000  127.820000  130.479996   96906500.0   \n",
       "2021-06-15  130.600006  129.389999  129.940002  129.639999   62746300.0   \n",
       "2021-06-16  130.889999  128.460007  130.369995  130.149994   91815000.0   \n",
       "2021-06-17  132.550003  129.649994  129.800003  131.789993   96721700.0   \n",
       "2021-06-18  131.509995  130.240005  130.710007  130.460007  108787300.0   \n",
       "\n",
       "             Adj Close  \n",
       "Date                    \n",
       "2016-06-28   21.857594  \n",
       "2016-06-29   22.046766  \n",
       "2016-06-30   22.327021  \n",
       "2016-07-01   22.394749  \n",
       "2016-07-05   22.184555  \n",
       "...                ...  \n",
       "2021-06-14  130.479996  \n",
       "2021-06-15  129.639999  \n",
       "2021-06-16  130.149994  \n",
       "2021-06-17  131.789993  \n",
       "2021-06-18  130.460007  \n",
       "\n",
       "[1253 rows x 6 columns]"
      ]
     },
     "metadata": {},
     "output_type": "display_data"
    }
   ],
   "source": [
    "df = pdr.data.DataReader(\"AAPL\",'yahoo', #\"av-intraday\",\n",
    "                         end=datetime(2021, 6, 20, 15, 28, 47, 573840),#datetime.today()\n",
    "                         api_key=\"ZDT39A5EINVODTVI\")\n",
    "display(df)\n",
    "initial_value=df[\"Close\"][-1]\n",
    "df.index = pd.to_datetime(df.index)"
   ]
  },
  {
   "cell_type": "code",
   "execution_count": 3,
   "id": "cfd5768f",
   "metadata": {},
   "outputs": [
    {
     "data": {
      "image/png": "[encoded data removed]",
      "text/plain": [
       "<Figure size 432x288 with 1 Axes>"
      ]
     },
     "metadata": {
      "needs_background": "light"
     },
     "output_type": "display_data"
    },
    {
     "data": {
      "text/plain": [
       "Date\n",
       "2016-06-29    0.008618\n",
       "2016-06-30    0.012632\n",
       "2016-07-01    0.003029\n",
       "2016-07-05   -0.009430\n",
       "2016-07-06    0.005669\n",
       "Name: Close, dtype: float64"
      ]
     },
     "execution_count": 3,
     "metadata": {},
     "output_type": "execute_result"
    },
    {
     "data": {
      "image/png": "[encoded data removed]",
      "text/plain": [
       "<Figure size 432x288 with 1 Axes>"
      ]
     },
     "metadata": {
      "needs_background": "light"
     },
     "output_type": "display_data"
    }
   ],
   "source": [
    "df = pd.Series(np.log(df.Close) - np.log(df.Close.shift(1))[1:],index=df.index[1:])\n",
    "df.plot(use_index=False)\n",
    "plt.show()\n",
    "df.plot.kde()\n",
    "df.head()"
   ]
  },
  {
   "cell_type": "code",
   "execution_count": 4,
   "id": "85854e41",
   "metadata": {},
   "outputs": [],
   "source": [
    "dataset = df[-250:]"
   ]
  },
  {
   "cell_type": "code",
   "execution_count": 5,
   "id": "f716ee15",
   "metadata": {},
   "outputs": [
    {
     "name": "stdout",
     "output_type": "stream",
     "text": [
      "Shapiro test of normality: statistic=0.977552592754364, p_value=0.00054467300651595\n"
     ]
    }
   ],
   "source": [
    "print(\"Shapiro test of normality: statistic={}, p_value={}\".format(st.shapiro(dataset)[0],st.shapiro(dataset)[1]))"
   ]
  },
  {
   "cell_type": "code",
   "execution_count": 6,
   "id": "f41dd988",
   "metadata": {},
   "outputs": [
    {
     "name": "stdout",
     "output_type": "stream",
     "text": [
      "Jarque Bera test of normality: statistic=48.39947581560408, p_value=0.00054467300651595\n"
     ]
    }
   ],
   "source": [
    "print(\"Jarque Bera test of normality: statistic={}, p_value={}\".format(st.jarque_bera(dataset)[0],st.shapiro(dataset)[1]))"
   ]
  },
  {
   "cell_type": "code",
   "execution_count": 7,
   "id": "c15ecdd1",
   "metadata": {},
   "outputs": [],
   "source": [
    "alpha_model = alpha.AlPhaStablePricer()"
   ]
  },
  {
   "cell_type": "code",
   "execution_count": 8,
   "id": "e4b19db7",
   "metadata": {},
   "outputs": [
    {
     "name": "stdout",
     "output_type": "stream",
     "text": [
      "CPU times: user 13min 8s, sys: 0 ns, total: 13min 8s\n",
      "Wall time: 13min 8s\n"
     ]
    }
   ],
   "source": [
    "%%time\n",
    "alpha_model.fit(dataset)"
   ]
  },
  {
   "cell_type": "code",
   "execution_count": 9,
   "id": "45a1030a",
   "metadata": {},
   "outputs": [
    {
     "data": {
      "text/html": [
       "<div>\n",
       "<style scoped>\n",
       "    .dataframe tbody tr th:only-of-type {\n",
       "        vertical-align: middle;\n",
       "    }\n",
       "\n",
       "    .dataframe tbody tr th {\n",
       "        vertical-align: top;\n",
       "    }\n",
       "\n",
       "    .dataframe thead th {\n",
       "        text-align: right;\n",
       "    }\n",
       "</style>\n",
       "<table border=\"1\" class=\"dataframe\">\n",
       "  <thead>\n",
       "    <tr style=\"text-align: right;\">\n",
       "      <th></th>\n",
       "      <th>Model</th>\n",
       "      <th>AIC</th>\n",
       "    </tr>\n",
       "  </thead>\n",
       "  <tbody>\n",
       "    <tr>\n",
       "      <th>0</th>\n",
       "      <td>Alpha-Stable</td>\n",
       "      <td>-1209.693433</td>\n",
       "    </tr>\n",
       "  </tbody>\n",
       "</table>\n",
       "</div>"
      ],
      "text/plain": [
       "          Model          AIC\n",
       "0  Alpha-Stable -1209.693433"
      ]
     },
     "execution_count": 9,
     "metadata": {},
     "output_type": "execute_result"
    }
   ],
   "source": [
    "pd.DataFrame({\"Alpha-Stable\":alpha_model.aic}.items(),\n",
    "             columns=[\"Model\",\"AIC\"]).sort_values(\"AIC\")"
   ]
  },
  {
   "cell_type": "code",
   "execution_count": 10,
   "id": "e0972c4c",
   "metadata": {},
   "outputs": [],
   "source": [
    "def stable_cdf(x):\n",
    "    return st.levy_stable(alpha=alpha_model.alpha,\n",
    "                    beta=alpha_model.betta,\n",
    "                    loc=alpha_model.mu,\n",
    "                    scale=alpha_model.c).cdf(x) "
   ]
  },
  {
   "cell_type": "code",
   "execution_count": 11,
   "id": "e29325f5",
   "metadata": {},
   "outputs": [
    {
     "data": {
      "text/plain": [
       "KstestResult(statistic=0.03663459430391136, pvalue=0.878053965901486)"
      ]
     },
     "execution_count": 11,
     "metadata": {},
     "output_type": "execute_result"
    }
   ],
   "source": [
    "st.kstest(dataset,stable_cdf)"
   ]
  },
  {
   "cell_type": "code",
   "execution_count": 12,
   "id": "50ddb945",
   "metadata": {},
   "outputs": [
    {
     "data": {
      "image/png": "[encoded data removed]",
      "text/plain": [
       "<Figure size 432x288 with 1 Axes>"
      ]
     },
     "metadata": {
      "needs_background": "light"
     },
     "output_type": "display_data"
    }
   ],
   "source": [
    "qqplot(dataset,st.levy_stable(alpha=alpha_model.alpha,\n",
    "                    beta=alpha_model.betta,\n",
    "                    loc=alpha_model.mu,\n",
    "                    scale=alpha_model.c),\n",
    "       fit=False,\n",
    "       line=\"45\")\n",
    "\n",
    "plt.title(r'$\\alpha$-stable')\n",
    "plt.savefig('q-qPlotStable.eps', format='eps')"
   ]
  },
  {
   "cell_type": "code",
   "execution_count": 13,
   "id": "fae685cc",
   "metadata": {},
   "outputs": [
    {
     "data": {
      "text/plain": [
       "Text(0.5, 1.0, 'Brownian motion')"
      ]
     },
     "execution_count": 13,
     "metadata": {},
     "output_type": "execute_result"
    },
    {
     "data": {
      "image/png": "[encoded data removed]",
      "text/plain": [
       "<Figure size 432x288 with 1 Axes>"
      ]
     },
     "metadata": {
      "needs_background": "light"
     },
     "output_type": "display_data"
    }
   ],
   "source": [
    "qqplot(dataset,\n",
    "       fit=True,\n",
    "       line=\"45\")\n",
    "\n",
    "plt.title(\"Brownian motion\")"
   ]
  }
 ],
 "metadata": {
  "kernelspec": {
   "display_name": "Python 3",
   "language": "python",
   "name": "python3"
  },
  "language_info": {
   "codemirror_mode": {
    "name": "ipython",
    "version": 3
   },
   "file_extension": ".py",
   "mimetype": "text/x-python",
   "name": "python",
   "nbconvert_exporter": "python",
   "pygments_lexer": "ipython3",
   "version": "3.8.5"
  }
 },
 "nbformat": 4,
 "nbformat_minor": 5
}
