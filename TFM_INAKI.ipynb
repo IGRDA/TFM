{
 "cells": [
  {
   "cell_type": "markdown",
   "id": "df97a145",
   "metadata": {},
   "source": [
    "## Import dependencies"
   ]
  },
  {
   "cell_type": "code",
   "execution_count": 1,
   "id": "da9c2af3",
   "metadata": {},
   "outputs": [],
   "source": [
    "%load_ext autoreload\n",
    "%autoreload 2\n",
    "from datetime import datetime\n",
    "import numpy as np\n",
    "import pandas_datareader as pdr\n",
    "from datetime import datetime\n",
    "import pandas as pd\n",
    "import scipy.stats as st\n",
    "import statsmodels.api as sm\n",
    "import statsmodels.tsa.api as smt\n",
    "from functools import partial\n",
    "from scipy.integrate import quad\n",
    "\n",
    "from matplotlib import pyplot as plt\n",
    "import utils\n",
    "import alPhaStablePricer as alpha\n",
    "import ghPricer as gh\n",
    "import mertonPricer as merton\n",
    "#st.levy_stable.pdf_default_method = 'quadrature' #More acurate but slow method"
   ]
  },
  {
   "cell_type": "markdown",
   "id": "3c8b8fc1",
   "metadata": {},
   "source": [
    "## Read data"
   ]
  },
  {
   "cell_type": "code",
   "execution_count": 2,
   "id": "e1c2a93c",
   "metadata": {},
   "outputs": [
    {
     "data": {
      "text/html": [
       "<div>\n",
       "<style scoped>\n",
       "    .dataframe tbody tr th:only-of-type {\n",
       "        vertical-align: middle;\n",
       "    }\n",
       "\n",
       "    .dataframe tbody tr th {\n",
       "        vertical-align: top;\n",
       "    }\n",
       "\n",
       "    .dataframe thead th {\n",
       "        text-align: right;\n",
       "    }\n",
       "</style>\n",
       "<table border=\"1\" class=\"dataframe\">\n",
       "  <thead>\n",
       "    <tr style=\"text-align: right;\">\n",
       "      <th></th>\n",
       "      <th>High</th>\n",
       "      <th>Low</th>\n",
       "      <th>Open</th>\n",
       "      <th>Close</th>\n",
       "      <th>Volume</th>\n",
       "      <th>Adj Close</th>\n",
       "    </tr>\n",
       "    <tr>\n",
       "      <th>Date</th>\n",
       "      <th></th>\n",
       "      <th></th>\n",
       "      <th></th>\n",
       "      <th></th>\n",
       "      <th></th>\n",
       "      <th></th>\n",
       "    </tr>\n",
       "  </thead>\n",
       "  <tbody>\n",
       "    <tr>\n",
       "      <th>2016-06-21</th>\n",
       "      <td>24.087500</td>\n",
       "      <td>23.670000</td>\n",
       "      <td>23.735001</td>\n",
       "      <td>23.977501</td>\n",
       "      <td>142185600.0</td>\n",
       "      <td>22.399418</td>\n",
       "    </tr>\n",
       "    <tr>\n",
       "      <th>2016-06-22</th>\n",
       "      <td>24.222500</td>\n",
       "      <td>23.837500</td>\n",
       "      <td>24.062500</td>\n",
       "      <td>23.887501</td>\n",
       "      <td>116876400.0</td>\n",
       "      <td>22.315344</td>\n",
       "    </tr>\n",
       "    <tr>\n",
       "      <th>2016-06-23</th>\n",
       "      <td>24.072500</td>\n",
       "      <td>23.812500</td>\n",
       "      <td>23.985001</td>\n",
       "      <td>24.025000</td>\n",
       "      <td>128960800.0</td>\n",
       "      <td>22.443794</td>\n",
       "    </tr>\n",
       "    <tr>\n",
       "      <th>2016-06-24</th>\n",
       "      <td>23.665001</td>\n",
       "      <td>23.162500</td>\n",
       "      <td>23.227501</td>\n",
       "      <td>23.350000</td>\n",
       "      <td>301245600.0</td>\n",
       "      <td>21.813219</td>\n",
       "    </tr>\n",
       "    <tr>\n",
       "      <th>2016-06-27</th>\n",
       "      <td>23.262501</td>\n",
       "      <td>22.875000</td>\n",
       "      <td>23.250000</td>\n",
       "      <td>23.010000</td>\n",
       "      <td>181958400.0</td>\n",
       "      <td>21.495594</td>\n",
       "    </tr>\n",
       "    <tr>\n",
       "      <th>...</th>\n",
       "      <td>...</td>\n",
       "      <td>...</td>\n",
       "      <td>...</td>\n",
       "      <td>...</td>\n",
       "      <td>...</td>\n",
       "      <td>...</td>\n",
       "    </tr>\n",
       "    <tr>\n",
       "      <th>2021-06-14</th>\n",
       "      <td>130.539993</td>\n",
       "      <td>127.070000</td>\n",
       "      <td>127.820000</td>\n",
       "      <td>130.479996</td>\n",
       "      <td>96906500.0</td>\n",
       "      <td>130.479996</td>\n",
       "    </tr>\n",
       "    <tr>\n",
       "      <th>2021-06-15</th>\n",
       "      <td>130.600006</td>\n",
       "      <td>129.389999</td>\n",
       "      <td>129.940002</td>\n",
       "      <td>129.639999</td>\n",
       "      <td>62746300.0</td>\n",
       "      <td>129.639999</td>\n",
       "    </tr>\n",
       "    <tr>\n",
       "      <th>2021-06-16</th>\n",
       "      <td>130.889999</td>\n",
       "      <td>128.460007</td>\n",
       "      <td>130.369995</td>\n",
       "      <td>130.149994</td>\n",
       "      <td>91815000.0</td>\n",
       "      <td>130.149994</td>\n",
       "    </tr>\n",
       "    <tr>\n",
       "      <th>2021-06-17</th>\n",
       "      <td>132.550003</td>\n",
       "      <td>129.649994</td>\n",
       "      <td>129.800003</td>\n",
       "      <td>131.789993</td>\n",
       "      <td>96721700.0</td>\n",
       "      <td>131.789993</td>\n",
       "    </tr>\n",
       "    <tr>\n",
       "      <th>2021-06-18</th>\n",
       "      <td>131.509995</td>\n",
       "      <td>130.240005</td>\n",
       "      <td>130.710007</td>\n",
       "      <td>130.460007</td>\n",
       "      <td>108787300.0</td>\n",
       "      <td>130.460007</td>\n",
       "    </tr>\n",
       "  </tbody>\n",
       "</table>\n",
       "<p>1258 rows × 6 columns</p>\n",
       "</div>"
      ],
      "text/plain": [
       "                  High         Low        Open       Close       Volume  \\\n",
       "Date                                                                      \n",
       "2016-06-21   24.087500   23.670000   23.735001   23.977501  142185600.0   \n",
       "2016-06-22   24.222500   23.837500   24.062500   23.887501  116876400.0   \n",
       "2016-06-23   24.072500   23.812500   23.985001   24.025000  128960800.0   \n",
       "2016-06-24   23.665001   23.162500   23.227501   23.350000  301245600.0   \n",
       "2016-06-27   23.262501   22.875000   23.250000   23.010000  181958400.0   \n",
       "...                ...         ...         ...         ...          ...   \n",
       "2021-06-14  130.539993  127.070000  127.820000  130.479996   96906500.0   \n",
       "2021-06-15  130.600006  129.389999  129.940002  129.639999   62746300.0   \n",
       "2021-06-16  130.889999  128.460007  130.369995  130.149994   91815000.0   \n",
       "2021-06-17  132.550003  129.649994  129.800003  131.789993   96721700.0   \n",
       "2021-06-18  131.509995  130.240005  130.710007  130.460007  108787300.0   \n",
       "\n",
       "             Adj Close  \n",
       "Date                    \n",
       "2016-06-21   22.399418  \n",
       "2016-06-22   22.315344  \n",
       "2016-06-23   22.443794  \n",
       "2016-06-24   21.813219  \n",
       "2016-06-27   21.495594  \n",
       "...                ...  \n",
       "2021-06-14  130.479996  \n",
       "2021-06-15  129.639999  \n",
       "2021-06-16  130.149994  \n",
       "2021-06-17  131.789993  \n",
       "2021-06-18  130.460007  \n",
       "\n",
       "[1258 rows x 6 columns]"
      ]
     },
     "metadata": {},
     "output_type": "display_data"
    },
    {
     "data": {
      "image/png": "[encoded data removed]",
      "text/plain": [
       "<Figure size 432x288 with 1 Axes>"
      ]
     },
     "metadata": {
      "needs_background": "light"
     },
     "output_type": "display_data"
    }
   ],
   "source": [
    "df = pdr.data.DataReader(\"AAPL\",'yahoo', #\"av-intraday\",\n",
    "                         end=datetime.today(),\n",
    "                         api_key=\"ZDT39A5EINVODTVI\")\n",
    "display(df)\n",
    "df[\"Close\"][-250:].plot(use_index=False)\n",
    "initial_value=df[\"Close\"][-1]\n",
    "df.index = pd.to_datetime(df.index)"
   ]
  },
  {
   "cell_type": "code",
   "execution_count": 3,
   "id": "d1db4ea4",
   "metadata": {
    "scrolled": true
   },
   "outputs": [
    {
     "data": {
      "image/png": "[encoded data removed]",
      "text/plain": [
       "<Figure size 432x288 with 1 Axes>"
      ]
     },
     "metadata": {
      "needs_background": "light"
     },
     "output_type": "display_data"
    },
    {
     "data": {
      "text/plain": [
       "Date\n",
       "2016-06-22   -0.003761\n",
       "2016-06-23    0.005740\n",
       "2016-06-24   -0.028498\n",
       "2016-06-27   -0.014668\n",
       "2016-06-28    0.016700\n",
       "Name: Close, dtype: float64"
      ]
     },
     "execution_count": 3,
     "metadata": {},
     "output_type": "execute_result"
    },
    {
     "data": {
      "image/png": "[encoded data removed]",
      "text/plain": [
       "<Figure size 432x288 with 1 Axes>"
      ]
     },
     "metadata": {
      "needs_background": "light"
     },
     "output_type": "display_data"
    }
   ],
   "source": [
    "df = pd.Series(np.log(df.Close) - np.log(df.Close.shift(1))[1:],index=df.index[1:])\n",
    "df.plot(use_index=False)\n",
    "plt.show()\n",
    "df.plot.kde()\n",
    "df.head()"
   ]
  },
  {
   "cell_type": "code",
   "execution_count": 4,
   "id": "26d78e57",
   "metadata": {},
   "outputs": [
    {
     "data": {
      "image/png": "[encoded data removed]",
      "text/plain": [
       "<Figure size 1008x576 with 4 Axes>"
      ]
     },
     "metadata": {
      "needs_background": "light"
     },
     "output_type": "display_data"
    }
   ],
   "source": [
    "def tsplot(y, figsize=(14, 8),xlim=(-0.1,0.1)):\n",
    "\n",
    "    fig = plt.figure(figsize=figsize)\n",
    "    layout = (2, 2)\n",
    "    ts_ax   = plt.subplot2grid(layout, (0, 0))\n",
    "    ac_ax = plt.subplot2grid(layout, (0, 1))\n",
    "    ts_ax2  = plt.subplot2grid(layout, (1, 0))\n",
    "    ac_ax2 = plt.subplot2grid(layout, (1, 1))\n",
    "    \n",
    "    y2=pd.Series([x**2 for x in y])\n",
    "\n",
    "    y.plot(ax=ts_ax,use_index=False,title=r'$X_t$')\n",
    "    y2.plot(ax=ts_ax2,use_index=False,title=r'$X_t^2$')\n",
    "    \n",
    "    smt.graphics.plot_acf(y, lags=None, ax=ac_ax,marker=None,title=r'ACF $X_t$')\n",
    "    smt.graphics.plot_acf(y2, lags=None, ax=ac_ax2,marker=None,title=r'ACF $X_t^2$')\n",
    "    \n",
    "    [ax.set_xlim(0) for ax in [ac_ax, ac_ax2]]\n",
    "\n",
    "    \n",
    "    fig.tight_layout()\n",
    "    plt.show()\n",
    "tsplot(df)"
   ]
  },
  {
   "cell_type": "markdown",
   "id": "0677e5f8",
   "metadata": {},
   "source": [
    "## Data subset"
   ]
  },
  {
   "cell_type": "code",
   "execution_count": 5,
   "id": "69227277",
   "metadata": {},
   "outputs": [],
   "source": [
    "dataset = df[-250:]"
   ]
  },
  {
   "cell_type": "code",
   "execution_count": 6,
   "id": "64f5ab84",
   "metadata": {},
   "outputs": [
    {
     "data": {
      "text/plain": [
       "Date\n",
       "2020-06-23    0.021120\n",
       "2020-06-24   -0.017810\n",
       "2020-06-25    0.013188\n",
       "2020-06-26   -0.031208\n",
       "2020-06-29    0.022785\n",
       "                ...   \n",
       "2021-06-14    0.024281\n",
       "2021-06-15   -0.006459\n",
       "2021-06-16    0.003926\n",
       "2021-06-17    0.012522\n",
       "2021-06-18   -0.010143\n",
       "Name: Close, Length: 250, dtype: float64"
      ]
     },
     "execution_count": 6,
     "metadata": {},
     "output_type": "execute_result"
    }
   ],
   "source": [
    "dataset"
   ]
  },
  {
   "cell_type": "code",
   "execution_count": 7,
   "id": "e6ba1d1f",
   "metadata": {},
   "outputs": [
    {
     "name": "stdout",
     "output_type": "stream",
     "text": [
      "Shapiro test of normality: statistic=0.977552592754364, p_value=0.00054467300651595\n"
     ]
    }
   ],
   "source": [
    "print(\"Shapiro test of normality: statistic={}, p_value={}\".format(st.shapiro(dataset)[0],st.shapiro(dataset)[1]))"
   ]
  },
  {
   "cell_type": "code",
   "execution_count": 8,
   "id": "97f1fa7c",
   "metadata": {},
   "outputs": [
    {
     "name": "stdout",
     "output_type": "stream",
     "text": [
      "Jarque Bera test of normality: statistic=48.39947581560408, p_value=0.00054467300651595\n"
     ]
    }
   ],
   "source": [
    "print(\"Jarque Bera test of normality: statistic={}, p_value={}\".format(st.jarque_bera(dataset)[0],st.shapiro(dataset)[1]))"
   ]
  },
  {
   "cell_type": "markdown",
   "id": "01b43630",
   "metadata": {},
   "source": [
    "We can reject the null hypothesis H0 that the returns are normally distributed"
   ]
  },
  {
   "cell_type": "markdown",
   "id": "5ff70338",
   "metadata": {},
   "source": [
    "## Fit models"
   ]
  },
  {
   "cell_type": "code",
   "execution_count": 9,
   "id": "bb14d910",
   "metadata": {},
   "outputs": [],
   "source": [
    "alpha_model = alpha.AlPhaStablePricer()"
   ]
  },
  {
   "cell_type": "code",
   "execution_count": null,
   "id": "b3b0dab8",
   "metadata": {},
   "outputs": [],
   "source": [
    "%%time\n",
    "alpha_model.fit(dataset)"
   ]
  },
  {
   "cell_type": "code",
   "execution_count": null,
   "id": "23cb666d",
   "metadata": {},
   "outputs": [],
   "source": [
    "merton_model = merton.MertonPricer()"
   ]
  },
  {
   "cell_type": "code",
   "execution_count": null,
   "id": "5adf67c7",
   "metadata": {},
   "outputs": [],
   "source": [
    "%%time\n",
    "merton_model.fit(dataset,T=1)"
   ]
  },
  {
   "cell_type": "code",
   "execution_count": null,
   "id": "a114d34c",
   "metadata": {},
   "outputs": [],
   "source": [
    "gh_model = gh.GhPricer()"
   ]
  },
  {
   "cell_type": "code",
   "execution_count": null,
   "id": "f4d9d968",
   "metadata": {},
   "outputs": [],
   "source": [
    "%%time\n",
    "gh_model.fit(dataset,1000)"
   ]
  },
  {
   "cell_type": "markdown",
   "id": "219c4aa9",
   "metadata": {},
   "source": [
    "## Probability density"
   ]
  },
  {
   "cell_type": "code",
   "execution_count": null,
   "id": "ec1bd003",
   "metadata": {},
   "outputs": [],
   "source": [
    "N=100\n",
    "x_grid = np.linspace(dataset.min(),dataset.max(),N)\n",
    "\n",
    "plt.plot(x_grid,\n",
    "        [merton_model.Merton_density(j,\n",
    "                                     T=1,\n",
    "                                     lam= merton_model.lam,\n",
    "                                     mu=merton_model.mu,\n",
    "                                     muJ=merton_model.muJ,\n",
    "                                     sig=merton_model.sig,\n",
    "                                     sigJ=merton_model.sigJ) for j in x_grid],\n",
    "        label=\"Merton\",linestyle='--')\n",
    "\n",
    "\n",
    "plt.plot(x_grid,\n",
    "         [st.levy_stable.pdf(x, \n",
    "                          alpha=alpha_model.alpha,\n",
    "                          beta=alpha_model.betta,\n",
    "                          loc=alpha_model.mu,\n",
    "                          scale=alpha_model.c) for x in x_grid],\n",
    "        label=r'$\\alpha$-Stable',linestyle='--')\n",
    "\n",
    "\n",
    "plt.plot(x_grid,\n",
    "        [gh_model.GH_density(j,\n",
    "                             alpha= gh_model.alpha,\n",
    "                             betta=gh_model.betta,\n",
    "                             delta=gh_model.delta,\n",
    "                             lam=gh_model.lam,\n",
    "                             mu=gh_model.mu) for j in x_grid],\n",
    "        label=\"GH\",linestyle='--')\n",
    "\n",
    "dataset.plot.kde(label=\"KDE\")\n",
    "plt.xlim((-dataset.max(),dataset.max()))\n",
    "plt.legend()\n",
    "plt.title(\"PDF\")\n",
    "plt.show()"
   ]
  },
  {
   "cell_type": "markdown",
   "id": "12af2ff0",
   "metadata": {},
   "source": [
    "## Cumulative distribution function"
   ]
  },
  {
   "cell_type": "code",
   "execution_count": null,
   "id": "7bb879e8",
   "metadata": {},
   "outputs": [],
   "source": [
    "p_Merton = partial(merton_model.Merton_density,\n",
    "                  T=1,\n",
    "                  lam= merton_model.lam,\n",
    "                  mu=merton_model.mu,\n",
    "                  muJ=merton_model.muJ,\n",
    "                  sig=merton_model.sig,\n",
    "                  sigJ=merton_model.sigJ)\n",
    "\n",
    "p_GH = partial(gh_model.GH_density,\n",
    "               delta=gh_model.delta,\n",
    "               mu=gh_model.mu,\n",
    "               lam=gh_model.lam,\n",
    "               alpha=gh_model.alpha,\n",
    "               betta=gh_model.betta)\n",
    "\n",
    "\n",
    "plt.plot(x_grid,\n",
    "        [quad(p_Merton,-np.inf,x)[0] for x in x_grid],\n",
    "        label=\"Merton\",linestyle='--')\n",
    "\n",
    "plt.plot(x_grid,\n",
    "        [quad(p_GH,-np.inf,x)[0] for x in x_grid],\n",
    "        label=\"GH\",linestyle='--')\n",
    "\n",
    "plt.plot(x_grid,  \n",
    "        [st.levy_stable(alpha=alpha_model.alpha,\n",
    "                        beta=alpha_model.betta,\n",
    "                        loc=alpha_model.mu,\n",
    "                        scale=alpha_model.c).cdf(x) for x in x_grid],\n",
    "        label=r'$\\alpha$-Stable',linestyle='--')\n",
    " \n",
    "plt.plot(np.sort(dataset), 1. * np.arange(len(dataset)) / (len(dataset) - 1),label=\"Empirical CDF\")\n",
    "plt.legend()\n",
    "plt.title(\"CDF\")\n",
    "plt.show()\n"
   ]
  },
  {
   "cell_type": "markdown",
   "id": "e89d7d86",
   "metadata": {},
   "source": [
    "### AIC"
   ]
  },
  {
   "cell_type": "code",
   "execution_count": null,
   "id": "d0975095",
   "metadata": {},
   "outputs": [],
   "source": [
    "pd.DataFrame({\"Merton\":merton_model.aic,\n",
    "              \"GH\":gh_model.aic,\n",
    "              \"Alpha-Stable\":alpha_model.aic}.items(),\n",
    "             columns=[\"Model\",\"AIC\"]).sort_values(\"AIC\")"
   ]
  },
  {
   "cell_type": "markdown",
   "id": "3224cc12",
   "metadata": {},
   "source": [
    "## Pricing"
   ]
  },
  {
   "cell_type": "code",
   "execution_count": null,
   "id": "8f2aa10d",
   "metadata": {},
   "outputs": [],
   "source": [
    "r=1.5/100\n",
    "S0=initial_value\n",
    "K=S0\n",
    "T=1\n",
    "print(S0)\n",
    "print(T)"
   ]
  },
  {
   "cell_type": "markdown",
   "id": "095bf3e0",
   "metadata": {},
   "source": [
    "###  Martingale corrections"
   ]
  },
  {
   "cell_type": "code",
   "execution_count": null,
   "id": "7cbf7099",
   "metadata": {},
   "outputs": [],
   "source": [
    "cf_mert_mcm = partial(merton_model.cf_mert,\n",
    "                       t=T,\n",
    "                       mu= merton_model.mu+r-merton_model.mcm,\n",
    "                       sig= merton_model.sig,\n",
    "                       lam= merton_model.lam,\n",
    "                       muJ= merton_model.muJ,\n",
    "                       sigJ= merton_model.sigJ)\n",
    "\n",
    "\n",
    "cf_stable_mcm = partial(alpha_model.cf_stable,\n",
    "                       alpha=alpha_model.alpha,\n",
    "                       betta=alpha_model.betta,\n",
    "                       mu=alpha_model.mu+r-alpha_model.mcm,\n",
    "                       c=alpha_model.c)\n",
    "\n",
    "\n",
    "cf_GH_mcm = partial(gh_model.cf_GH,\n",
    "                    t=T,\n",
    "                    delta = gh_model.delta,               \n",
    "                    mu= gh_model.mu+r-gh_model.mcm,\n",
    "                    lam= gh_model.lam,\n",
    "                    alpha=gh_model.alpha,\n",
    "                    betta=gh_model.betta)\n",
    "                    \n",
    "print(alpha_model.mcm)\n",
    "print(merton_model.mcm)\n",
    "print(gh_model.mcm)"
   ]
  },
  {
   "cell_type": "markdown",
   "id": "4ed12f74",
   "metadata": {},
   "source": [
    "### Results"
   ]
  },
  {
   "cell_type": "code",
   "execution_count": null,
   "id": "a0deb2c4",
   "metadata": {},
   "outputs": [],
   "source": [
    "%%time\n",
    "data = [{'model': \"Stable\",\n",
    "         \"Call_Fourier\":utils.fourierPricer(K=K,S0=S0,r=r,cf=cf_stable_mcm,payoff=\"call\",T=T,udep=True,mcm=0),\n",
    "         \"Call_MC\":alpha_model.mcPricer(K=K,r=r,T=T,S0=S0,payoff=\"call\",N=1000),\n",
    "         \"Put_Fourier\":utils.fourierPricer(K=K,S0=S0,r=r,cf=cf_stable_mcm,payoff=\"put\",T=T,udep=True,mcm=0),\n",
    "         \"Put_MC\":alpha_model.mcPricer(K=K,r=r,T=T,S0=S0,payoff=\"put\",N=100000)},\n",
    "       {'model': \"Merton\",\n",
    "         \"Call_Fourier\":utils.fourierPricer(K=K,S0=S0,r=r,cf=cf_mert_mcm,payoff=\"call\",T=T,udep=True,mcm=0),\n",
    "         \"Call_MC\":merton_model.mcPricer(K=K,r=r,T=T,S0=S0,payoff=\"call\",N=100000),\n",
    "         \"Put_Fourier\":utils.fourierPricer(K=K,S0=S0,r=r,cf=cf_mert_mcm,payoff=\"put\",T=T,udep=True,mcm=0),\n",
    "         \"Put_MC\":merton_model.mcPricer(K=K,r=r,T=T,S0=S0,payoff=\"put\",N=100000)},\n",
    "       {'model': \"GH\",\n",
    "         \"Call_Fourier\":utils.fourierPricer(K=K,S0=S0,r=r,cf=cf_GH_mcm,payoff=\"call\",T=T,udep=True,mcm=0),\n",
    "         \"Put_Fourier\":utils.fourierPricer(K=K,S0=S0,r=r,cf=cf_GH_mcm,payoff=\"put\",T=T,udep=True,mcm=0)\n",
    "       }]\n",
    "        \n",
    "pd.DataFrame.from_dict(data)"
   ]
  },
  {
   "cell_type": "markdown",
   "id": "7645d90f",
   "metadata": {},
   "source": [
    "## Plots"
   ]
  },
  {
   "cell_type": "code",
   "execution_count": null,
   "id": "795e1b69",
   "metadata": {},
   "outputs": [],
   "source": [
    "S = [i for i in range(1,200)]\n",
    "plots= [{'model': \"Stable\",\n",
    "         \"Call_Fourier\":[utils.fourierPricer(K=s,S0=S0,r=r,cf=cf_stable_mcm,payoff=\"call\",T=T,udep=True,mcm=0) for s in S],\n",
    "        \"Call_MC\":[alpha_model.mcPricer(K=s,r=r,T=T,S0=S0,payoff=\"call\",N=10000)[0] for s in S],\n",
    "         \"Put_Fourier\":[utils.fourierPricer(K=s,S0=S0,r=r,cf=cf_stable_mcm,payoff=\"put\",T=T,udep=True,mcm=0) for s in S],\n",
    "         \"Put_MC\":[alpha_model.mcPricer(K=s,r=r,T=T,S0=S0,payoff=\"put\",N=10000)[0]for s in S]},\n",
    "       {'model': \"Merton\",\n",
    "         \"Call_Fourier\":[utils.fourierPricer(K=s,S0=S0,r=r,cf=cf_mert_mcm,payoff=\"call\",T=T,udep=True,mcm=0) for s in S],\n",
    "         \"Call_MC\":[merton_model.mcPricer(K=s,r=r,T=T,S0=S0,payoff=\"call\",N=10000)[0]for s in S],\n",
    "         \"Put_Fourier\":[utils.fourierPricer(K=s,S0=S0,r=r,cf=cf_mert_mcm,payoff=\"put\",T=T,udep=True,mcm=0) for s in S],\n",
    "         \"Put_MC\":[merton_model.mcPricer(K=s,r=r,T=T,S0=S0,payoff=\"put\",N=10000)[0]for s in S]},\n",
    "       {'model': \"GH\",\n",
    "         \"Call_Fourier\":[utils.fourierPricer(K=s,S0=S0,r=r,cf=cf_GH_mcm,payoff=\"call\",T=T,udep=True,mcm=0)for s in S],\n",
    "         \"Put_Fourier\":[utils.fourierPricer(K=s,S0=S0,r=r,cf=cf_GH_mcm,payoff=\"put\",T=T,udep=True,mcm=0)for s in S]\n",
    "       }]"
   ]
  },
  {
   "cell_type": "markdown",
   "id": "b0a31ae0",
   "metadata": {},
   "source": [
    "## CALLS"
   ]
  },
  {
   "cell_type": "code",
   "execution_count": null,
   "id": "cc616b33",
   "metadata": {},
   "outputs": [],
   "source": [
    "for i in plots:\n",
    "    for j in i.keys():\n",
    "        if ((j!=\"model\") and (j!=\"Put_Fourier\") and (j!=\"Put_MC\")):\n",
    "            #if i[\"model\"]!=\"GH\":\n",
    "            #if ((i[\"model\"]+j)!=\"GHCall_Fourier\"):\n",
    "            plt.plot(S,i[j],label=i[\"model\"]+j)\n",
    "plt.title(\"Calls\")\n",
    "plt.xlabel(\"S0\")\n",
    "plt.ylabel(\"K\")\n",
    "plt.legend()\n",
    "for i in calls:\n",
    "    plt.scatter(i[0],i[1])\n",
    "#plt.ylim([0,60])\n",
    "#plt.xlim([90,160])\n",
    "plt.show()"
   ]
  },
  {
   "cell_type": "markdown",
   "id": "4f17b23a",
   "metadata": {},
   "source": [
    "## Puts"
   ]
  },
  {
   "cell_type": "code",
   "execution_count": null,
   "id": "9fe1602d",
   "metadata": {},
   "outputs": [],
   "source": [
    "for i in plots:\n",
    "    for j in i.keys():\n",
    "        if ((j!=\"model\") and (j!=\"Call_Fourier\") and (j!=\"Call_MC\")):\n",
    "            #f i[\"model\"]!=\"GH\":\n",
    "            plt.plot(i[j],label=i[\"model\"]+j)\n",
    "plt.xlabel(\"S0\")\n",
    "plt.ylabel(\"K\")\n",
    "plt.legend()\n",
    "plt.title(\"Puts\")\n",
    "for i in puts:\n",
    "    plt.scatter(i[0],i[1])\n",
    "plt.show()"
   ]
  },
  {
   "cell_type": "code",
   "execution_count": null,
   "id": "56af7baf",
   "metadata": {},
   "outputs": [],
   "source": [
    "now = datetime.now()\n",
    " \n",
    "print(\"time of pricess =\", now)\n",
    "\n",
    "calls =[[85.00 , 43.90] ,\n",
    "[90.00 , 41.25] ,\n",
    "[100.00 , 32.10] ,\n",
    "[95.00 , 31.33] ,\n",
    "[105.00 , 24.60] ,\n",
    "[110.00 , 20.83] ,\n",
    "[115.00 , 17.26] ,\n",
    "[112.00 , 17.20] ,\n",
    "[114.00 , 16.95] ,\n",
    "[116.00 , 15.51] ,\n",
    "[113.00 , 15.10] ,\n",
    "[117.00 , 14.69] ,\n",
    "[118.00 , 13.40] ,\n",
    "[119.00 , 12.50] ,\n",
    "[121.00 , 11.35] ,\n",
    "[120.00 , 11.20] ,\n",
    "[122.00 , 9.50] ,\n",
    "[123.00 , 8.25] ,\n",
    "[124.00 , 7.35] ,\n",
    "[125.00 , 6.90] ,\n",
    "[126.00 , 5.95] ,\n",
    "[127.00 , 5.20] ,\n",
    "[128.00 , 4.45] ,\n",
    "[129.00 , 3.75] ,\n",
    "[130.00 , 3.17] ,\n",
    "[131.00 , 2.56] ,\n",
    "[132.00 , 2.08] ,\n",
    "[133.00 , 1.66] ,\n",
    "[134.00 , 1.31] ,\n",
    "[135.00,  1.03],\n",
    "[131.00 , 2.56] ,\n",
    "[132.00 , 2.08] ,\n",
    "[133.00 , 1.66] ,\n",
    "[134.00 , 1.31] ,\n",
    "[135.00 , 1.03] ,\n",
    "[136.00 , 0.80] ,\n",
    "[137.00 , 0.66] ,\n",
    "[138.00 , 0.50] ,\n",
    "[139.00 , 0.41] ,\n",
    "[140.00 , 0.31] ,\n",
    "[141.00 , 0.24] ,\n",
    "[145.00 , 0.12] ,\n",
    "[150.00 , 0.06] ,\n",
    "[155.00 , 0.04]]\n",
    "\n",
    "\n",
    "puts = [[40.00 , 0.02] ,\n",
    "[45.00 , 0.01 ],\n",
    "[50.00 , 0.01 ],\n",
    "[55.00 , 0.01 ],\n",
    "[60.00 , 0.01 ],\n",
    "[65.00 , 0.01 ],\n",
    "[70.00 , 0.02 ],\n",
    "[75.00 , 0.02 ],\n",
    "[80.00 , 0.03 ],\n",
    "[85.00 , 0.04 ],\n",
    "[90.00 , 0.05 ],\n",
    "[95.00 , 0.08 ],\n",
    "[100.00 , 0.10 ],\n",
    "[105.00 , 0.18 ],\n",
    "[110.00 , 0.25 ],\n",
    "[115.00 , 0.37 ],\n",
    "[120.00 , 0.63 ],\n",
    "[125.00 , 1.33 ],\n",
    "[130.00 , 2.89 ],\n",
    "[135.00 , 5.87 ],\n",
    "[140.00 , 9.52 ],\n",
    "[145.00 , 14.25] ,\n",
    "[150.00 , 19.15] ,\n",
    "[155.00 , 24.33] ,\n",
    "[160.00 , 29.00] ,\n",
    "[165.00 , 38.21] ,\n",
    "[170.00 , 39.15] ,\n",
    "[175.00 , 48.20] ,\n",
    "[180.00 , 54.62] ,\n",
    "[185.00 , 58.10]]"
   ]
  },
  {
   "cell_type": "markdown",
   "id": "f5a25626",
   "metadata": {},
   "source": [
    "Above prices are taken from https://finance.yahoo.com/quote/AAPL/options?date=1626393600"
   ]
  }
 ],
 "metadata": {
  "interpreter": {
   "hash": "916dbcbb3f70747c44a77c7bcd40155683ae19c65e1c03b4aa3499c5328201f1"
  },
  "kernelspec": {
   "display_name": "Python 3",
   "language": "python",
   "name": "python3"
  },
  "language_info": {
   "codemirror_mode": {
    "name": "ipython",
    "version": 3
   },
   "file_extension": ".py",
   "mimetype": "text/x-python",
   "name": "python",
   "nbconvert_exporter": "python",
   "pygments_lexer": "ipython3",
   "version": "3.8.5"
  }
 },
 "nbformat": 4,
 "nbformat_minor": 5
}
