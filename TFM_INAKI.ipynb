{
 "cells": [
  {
   "cell_type": "markdown",
   "id": "df97a145",
   "metadata": {},
   "source": [
    "## Import dependencies"
   ]
  },
  {
   "cell_type": "code",
   "execution_count": 1,
   "id": "da9c2af3",
   "metadata": {},
   "outputs": [],
   "source": [
    "%load_ext autoreload\n",
    "%autoreload 2\n",
    "import numpy as np\n",
    "import pandas_datareader as pdr\n",
    "from datetime import datetime\n",
    "import pandas as pd\n",
    "import scipy.stats as st\n",
    "import statsmodels.api as sm\n",
    "import statsmodels.tsa.api as smt\n",
    "from functools import partial\n",
    "from scipy.integrate import quad\n",
    "\n",
    "from matplotlib import pyplot as plt\n",
    "import utils\n",
    "import alPhaStablePricer as alpha\n",
    "import ghPricer as gh\n",
    "import mertonPricer as merton"
   ]
  },
  {
   "cell_type": "markdown",
   "id": "3c8b8fc1",
   "metadata": {},
   "source": [
    "## Read data"
   ]
  },
  {
   "cell_type": "code",
   "execution_count": 2,
   "id": "e1c2a93c",
   "metadata": {},
   "outputs": [
    {
     "data": {
      "text/html": [
       "<div>\n",
       "<style scoped>\n",
       "    .dataframe tbody tr th:only-of-type {\n",
       "        vertical-align: middle;\n",
       "    }\n",
       "\n",
       "    .dataframe tbody tr th {\n",
       "        vertical-align: top;\n",
       "    }\n",
       "\n",
       "    .dataframe thead th {\n",
       "        text-align: right;\n",
       "    }\n",
       "</style>\n",
       "<table border=\"1\" class=\"dataframe\">\n",
       "  <thead>\n",
       "    <tr style=\"text-align: right;\">\n",
       "      <th></th>\n",
       "      <th>High</th>\n",
       "      <th>Low</th>\n",
       "      <th>Open</th>\n",
       "      <th>Close</th>\n",
       "      <th>Volume</th>\n",
       "      <th>Adj Close</th>\n",
       "    </tr>\n",
       "    <tr>\n",
       "      <th>Date</th>\n",
       "      <th></th>\n",
       "      <th></th>\n",
       "      <th></th>\n",
       "      <th></th>\n",
       "      <th></th>\n",
       "      <th></th>\n",
       "    </tr>\n",
       "  </thead>\n",
       "  <tbody>\n",
       "    <tr>\n",
       "      <th>2016-06-10</th>\n",
       "      <td>24.837500</td>\n",
       "      <td>24.620001</td>\n",
       "      <td>24.632500</td>\n",
       "      <td>24.707500</td>\n",
       "      <td>126851600.0</td>\n",
       "      <td>23.081377</td>\n",
       "    </tr>\n",
       "    <tr>\n",
       "      <th>2016-06-13</th>\n",
       "      <td>24.780001</td>\n",
       "      <td>24.275000</td>\n",
       "      <td>24.672501</td>\n",
       "      <td>24.334999</td>\n",
       "      <td>152082000.0</td>\n",
       "      <td>22.733387</td>\n",
       "    </tr>\n",
       "    <tr>\n",
       "      <th>2016-06-14</th>\n",
       "      <td>24.620001</td>\n",
       "      <td>24.187500</td>\n",
       "      <td>24.330000</td>\n",
       "      <td>24.365000</td>\n",
       "      <td>127727600.0</td>\n",
       "      <td>22.761415</td>\n",
       "    </tr>\n",
       "    <tr>\n",
       "      <th>2016-06-15</th>\n",
       "      <td>24.602501</td>\n",
       "      <td>24.257500</td>\n",
       "      <td>24.455000</td>\n",
       "      <td>24.285000</td>\n",
       "      <td>117780800.0</td>\n",
       "      <td>22.686680</td>\n",
       "    </tr>\n",
       "    <tr>\n",
       "      <th>2016-06-16</th>\n",
       "      <td>24.437500</td>\n",
       "      <td>24.017500</td>\n",
       "      <td>24.112499</td>\n",
       "      <td>24.387501</td>\n",
       "      <td>125307200.0</td>\n",
       "      <td>22.782436</td>\n",
       "    </tr>\n",
       "    <tr>\n",
       "      <th>...</th>\n",
       "      <td>...</td>\n",
       "      <td>...</td>\n",
       "      <td>...</td>\n",
       "      <td>...</td>\n",
       "      <td>...</td>\n",
       "      <td>...</td>\n",
       "    </tr>\n",
       "    <tr>\n",
       "      <th>2021-06-03</th>\n",
       "      <td>124.849998</td>\n",
       "      <td>123.129997</td>\n",
       "      <td>124.680000</td>\n",
       "      <td>123.540001</td>\n",
       "      <td>76229200.0</td>\n",
       "      <td>123.540001</td>\n",
       "    </tr>\n",
       "    <tr>\n",
       "      <th>2021-06-04</th>\n",
       "      <td>126.160004</td>\n",
       "      <td>123.849998</td>\n",
       "      <td>124.070000</td>\n",
       "      <td>125.889999</td>\n",
       "      <td>75087300.0</td>\n",
       "      <td>125.889999</td>\n",
       "    </tr>\n",
       "    <tr>\n",
       "      <th>2021-06-07</th>\n",
       "      <td>126.320000</td>\n",
       "      <td>124.830002</td>\n",
       "      <td>126.169998</td>\n",
       "      <td>125.900002</td>\n",
       "      <td>71057600.0</td>\n",
       "      <td>125.900002</td>\n",
       "    </tr>\n",
       "    <tr>\n",
       "      <th>2021-06-08</th>\n",
       "      <td>128.460007</td>\n",
       "      <td>126.209999</td>\n",
       "      <td>126.599998</td>\n",
       "      <td>126.739998</td>\n",
       "      <td>74313400.0</td>\n",
       "      <td>126.739998</td>\n",
       "    </tr>\n",
       "    <tr>\n",
       "      <th>2021-06-09</th>\n",
       "      <td>127.750000</td>\n",
       "      <td>126.519997</td>\n",
       "      <td>127.209999</td>\n",
       "      <td>127.105003</td>\n",
       "      <td>17291127.0</td>\n",
       "      <td>127.105003</td>\n",
       "    </tr>\n",
       "  </tbody>\n",
       "</table>\n",
       "<p>1258 rows × 6 columns</p>\n",
       "</div>"
      ],
      "text/plain": [
       "                  High         Low        Open       Close       Volume  \\\n",
       "Date                                                                      \n",
       "2016-06-10   24.837500   24.620001   24.632500   24.707500  126851600.0   \n",
       "2016-06-13   24.780001   24.275000   24.672501   24.334999  152082000.0   \n",
       "2016-06-14   24.620001   24.187500   24.330000   24.365000  127727600.0   \n",
       "2016-06-15   24.602501   24.257500   24.455000   24.285000  117780800.0   \n",
       "2016-06-16   24.437500   24.017500   24.112499   24.387501  125307200.0   \n",
       "...                ...         ...         ...         ...          ...   \n",
       "2021-06-03  124.849998  123.129997  124.680000  123.540001   76229200.0   \n",
       "2021-06-04  126.160004  123.849998  124.070000  125.889999   75087300.0   \n",
       "2021-06-07  126.320000  124.830002  126.169998  125.900002   71057600.0   \n",
       "2021-06-08  128.460007  126.209999  126.599998  126.739998   74313400.0   \n",
       "2021-06-09  127.750000  126.519997  127.209999  127.105003   17291127.0   \n",
       "\n",
       "             Adj Close  \n",
       "Date                    \n",
       "2016-06-10   23.081377  \n",
       "2016-06-13   22.733387  \n",
       "2016-06-14   22.761415  \n",
       "2016-06-15   22.686680  \n",
       "2016-06-16   22.782436  \n",
       "...                ...  \n",
       "2021-06-03  123.540001  \n",
       "2021-06-04  125.889999  \n",
       "2021-06-07  125.900002  \n",
       "2021-06-08  126.739998  \n",
       "2021-06-09  127.105003  \n",
       "\n",
       "[1258 rows x 6 columns]"
      ]
     },
     "metadata": {},
     "output_type": "display_data"
    },
    {
     "data": {
      "image/png": "[encoded data removed]",
      "text/plain": [
       "<Figure size 432x288 with 1 Axes>"
      ]
     },
     "metadata": {
      "needs_background": "light"
     },
     "output_type": "display_data"
    }
   ],
   "source": [
    "df = pdr.data.DataReader(\"AAPL\",'yahoo', #\"av-intraday\",\n",
    "                         end=datetime.today(),\n",
    "                         api_key=\"ZDT39A5EINVODTVI\")\n",
    "display(df)\n",
    "df[\"Close\"][-500:].plot(use_index=False)\n",
    "initial_value=df[\"Close\"][-1]\n",
    "df.index = pd.to_datetime(df.index)"
   ]
  },
  {
   "cell_type": "code",
   "execution_count": 3,
   "id": "d1db4ea4",
   "metadata": {
    "scrolled": true
   },
   "outputs": [
    {
     "data": {
      "image/png": "[encoded data removed]",
      "text/plain": [
       "<Figure size 432x288 with 1 Axes>"
      ]
     },
     "metadata": {
      "needs_background": "light"
     },
     "output_type": "display_data"
    },
    {
     "data": {
      "text/plain": [
       "Date\n",
       "2016-06-13   -0.015191\n",
       "2016-06-14    0.001232\n",
       "2016-06-15   -0.003289\n",
       "2016-06-16    0.004212\n",
       "2016-06-17   -0.023021\n",
       "Name: Close, dtype: float64"
      ]
     },
     "execution_count": 3,
     "metadata": {},
     "output_type": "execute_result"
    },
    {
     "data": {
      "image/png": "[encoded data removed]",
      "text/plain": [
       "<Figure size 432x288 with 1 Axes>"
      ]
     },
     "metadata": {
      "needs_background": "light"
     },
     "output_type": "display_data"
    }
   ],
   "source": [
    "df = pd.Series(np.log(df.Close) - np.log(df.Close.shift(1))[1:],index=df.index[1:])\n",
    "df.plot(use_index=False)\n",
    "plt.show()\n",
    "df.plot.kde()\n",
    "df.head()"
   ]
  },
  {
   "cell_type": "code",
   "execution_count": 4,
   "id": "26d78e57",
   "metadata": {},
   "outputs": [
    {
     "data": {
      "image/png": "[encoded data removed]",
      "text/plain": [
       "<Figure size 1008x576 with 4 Axes>"
      ]
     },
     "metadata": {
      "needs_background": "light"
     },
     "output_type": "display_data"
    }
   ],
   "source": [
    "def tsplot(y, figsize=(14, 8),xlim=(-0.1,0.1)):\n",
    "\n",
    "    fig = plt.figure(figsize=figsize)\n",
    "    layout = (2, 2)\n",
    "    ts_ax   = plt.subplot2grid(layout, (0, 0))\n",
    "    ac_ax = plt.subplot2grid(layout, (0, 1))\n",
    "    ts_ax2  = plt.subplot2grid(layout, (1, 0))\n",
    "    ac_ax2 = plt.subplot2grid(layout, (1, 1))\n",
    "    \n",
    "    y2=pd.Series([x**2 for x in y])\n",
    "\n",
    "    y.plot(ax=ts_ax,use_index=False,title=r'$X_t$')\n",
    "    y2.plot(ax=ts_ax2,use_index=False,title=r'$X_t^2$')\n",
    "    \n",
    "    smt.graphics.plot_acf(y, lags=None, ax=ac_ax,marker=None,title=r'ACF $X_t$')\n",
    "    smt.graphics.plot_acf(y2, lags=None, ax=ac_ax2,marker=None,title=r'ACF $X_t^2$')\n",
    "    \n",
    "    [ax.set_xlim(0) for ax in [ac_ax, ac_ax2]]\n",
    "\n",
    "    \n",
    "    fig.tight_layout()\n",
    "    plt.show()\n",
    "tsplot(df)"
   ]
  },
  {
   "cell_type": "markdown",
   "id": "0677e5f8",
   "metadata": {},
   "source": [
    "## Data subset"
   ]
  },
  {
   "cell_type": "code",
   "execution_count": 5,
   "id": "69227277",
   "metadata": {},
   "outputs": [],
   "source": [
    "dataset = df[-250:]"
   ]
  },
  {
   "cell_type": "code",
   "execution_count": 6,
   "id": "64f5ab84",
   "metadata": {},
   "outputs": [
    {
     "data": {
      "text/plain": [
       "Date\n",
       "2020-06-12    0.008596\n",
       "2020-06-15    0.012291\n",
       "2020-06-16    0.026157\n",
       "2020-06-17   -0.001393\n",
       "2020-06-18    0.000398\n",
       "                ...   \n",
       "2021-06-03   -0.012229\n",
       "2021-06-04    0.018844\n",
       "2021-06-07    0.000079\n",
       "2021-06-08    0.006650\n",
       "2021-06-09    0.002876\n",
       "Name: Close, Length: 250, dtype: float64"
      ]
     },
     "execution_count": 6,
     "metadata": {},
     "output_type": "execute_result"
    }
   ],
   "source": [
    "dataset"
   ]
  },
  {
   "cell_type": "code",
   "execution_count": 7,
   "id": "e6ba1d1f",
   "metadata": {},
   "outputs": [
    {
     "name": "stdout",
     "output_type": "stream",
     "text": [
      "Shapiro test of normality: statistic=0.977632999420166, p_value=0.000560946122277528\n"
     ]
    }
   ],
   "source": [
    "print(\"Shapiro test of normality: statistic={}, p_value={}\".format(st.shapiro(dataset)[0],st.shapiro(dataset)[1]))"
   ]
  },
  {
   "cell_type": "code",
   "execution_count": 8,
   "id": "97f1fa7c",
   "metadata": {},
   "outputs": [
    {
     "name": "stdout",
     "output_type": "stream",
     "text": [
      "Jarque Bera test of normality: statistic=47.13251712109946, p_value=0.000560946122277528\n"
     ]
    }
   ],
   "source": [
    "print(\"Jarque Bera test of normality: statistic={}, p_value={}\".format(st.jarque_bera(dataset)[0],st.shapiro(dataset)[1]))"
   ]
  },
  {
   "cell_type": "markdown",
   "id": "01b43630",
   "metadata": {},
   "source": [
    "We can reject the null hypothesis H0 that the returns are normally distributed"
   ]
  },
  {
   "cell_type": "markdown",
   "id": "5ff70338",
   "metadata": {},
   "source": [
    "## Fit models"
   ]
  },
  {
   "cell_type": "code",
   "execution_count": 9,
   "id": "bb14d910",
   "metadata": {},
   "outputs": [],
   "source": [
    "alpha_model = alpha.AlPhaStablePricer()"
   ]
  },
  {
   "cell_type": "code",
   "execution_count": 10,
   "id": "b3b0dab8",
   "metadata": {},
   "outputs": [],
   "source": [
    "alpha_model.fit(dataset)"
   ]
  },
  {
   "cell_type": "code",
   "execution_count": 11,
   "id": "23cb666d",
   "metadata": {},
   "outputs": [],
   "source": [
    "merton_model = merton.MertonPricer()"
   ]
  },
  {
   "cell_type": "code",
   "execution_count": 12,
   "id": "5adf67c7",
   "metadata": {},
   "outputs": [],
   "source": [
    "merton_model.fit(dataset,T=1)"
   ]
  },
  {
   "cell_type": "code",
   "execution_count": 13,
   "id": "a114d34c",
   "metadata": {},
   "outputs": [],
   "source": [
    "gh_model = gh.GhPricer()"
   ]
  },
  {
   "cell_type": "code",
   "execution_count": 14,
   "id": "f4d9d968",
   "metadata": {},
   "outputs": [],
   "source": [
    "gh_model.fit(dataset)"
   ]
  },
  {
   "cell_type": "markdown",
   "id": "219c4aa9",
   "metadata": {},
   "source": [
    "## Probability density"
   ]
  },
  {
   "cell_type": "code",
   "execution_count": 15,
   "id": "ec1bd003",
   "metadata": {},
   "outputs": [
    {
     "data": {
      "image/png": "[encoded data removed]",
      "text/plain": [
       "<Figure size 432x288 with 1 Axes>"
      ]
     },
     "metadata": {
      "needs_background": "light"
     },
     "output_type": "display_data"
    }
   ],
   "source": [
    "N=100\n",
    "x_grid = np.linspace(dataset.min(),dataset.max(),N)\n",
    "plt.plot(x_grid,\n",
    "        [merton_model.Merton_density(j,\n",
    "                                     T=1,\n",
    "                                     lam= merton_model.lam,\n",
    "                                     mu=merton_model.mu,\n",
    "                                     muJ=merton_model.muJ,\n",
    "                                     sig=merton_model.sig,\n",
    "                                     sigJ=merton_model.sigJ) for j in x_grid],\n",
    "        label=\"Merton\",linestyle='--')\n",
    "\n",
    "plt.plot(x_grid,\n",
    "        [gh_model.GH_density(j,\n",
    "                             alpha= gh_model.alpha,\n",
    "                             betta=gh_model.betta,\n",
    "                             delta=gh_model.delta,\n",
    "                             lam=gh_model.lam,\n",
    "                             mu=gh_model.mu) for j in x_grid],\n",
    "        label=\"GH\",linestyle='--')\n",
    "\n",
    "plt.plot(x_grid,\n",
    "         [st.levy_stable.pdf(x, \n",
    "                          alpha=alpha_model.alpha,\n",
    "                          beta=alpha_model.betta,\n",
    "                          loc=alpha_model.mu,\n",
    "                          scale=alpha_model.c) for x in x_grid],\n",
    "        label=r'$\\alpha$-Stable',linestyle='--')\n",
    "\n",
    "dataset.plot.kde(label=\"KDE\")\n",
    "plt.xlim((-dataset.max(),dataset.max()))\n",
    "plt.legend()\n",
    "plt.title(\"PDF\")\n",
    "plt.show()"
   ]
  },
  {
   "cell_type": "markdown",
   "id": "12af2ff0",
   "metadata": {},
   "source": [
    "## Cumulative distribution function"
   ]
  },
  {
   "cell_type": "code",
   "execution_count": 16,
   "id": "7bb879e8",
   "metadata": {},
   "outputs": [
    {
     "data": {
      "image/png": "[encoded data removed]",
      "text/plain": [
       "<Figure size 432x288 with 1 Axes>"
      ]
     },
     "metadata": {
      "needs_background": "light"
     },
     "output_type": "display_data"
    }
   ],
   "source": [
    "p_Merton = partial(merton_model.Merton_density,\n",
    "                  T=1,\n",
    "                  lam= merton_model.lam,\n",
    "                  mu=merton_model.mu,\n",
    "                  muJ=merton_model.muJ,\n",
    "                  sig=merton_model.sig,\n",
    "                  sigJ=merton_model.sigJ)\n",
    "\n",
    "p_GH = partial(gh_model.GH_density,\n",
    "               delta=gh_model.delta,\n",
    "               mu=gh_model.mu,\n",
    "               lam=gh_model.lam,\n",
    "               alpha=gh_model.alpha,\n",
    "               betta=gh_model.betta)\n",
    "\n",
    "\n",
    "plt.plot(x_grid,\n",
    "        [quad(p_Merton,-np.inf,x)[0] for x in x_grid],\n",
    "        label=\"Merton\",linestyle='--')\n",
    "\n",
    "plt.plot(x_grid,\n",
    "        [quad(p_GH,-np.inf,x)[0] for x in x_grid],\n",
    "        label=\"GH\",linestyle='--')\n",
    "\n",
    "plt.plot(x_grid,  \n",
    "        [st.levy_stable(alpha=alpha_model.alpha,\n",
    "                        beta=alpha_model.betta,\n",
    "                        loc=alpha_model.mu,\n",
    "                        scale=alpha_model.c).cdf(x) for x in x_grid],\n",
    "        label=r'$\\alpha$-Stable',linestyle='--')\n",
    " \n",
    "plt.plot(np.sort(dataset), 1. * np.arange(len(dataset)) / (len(dataset) - 1),label=\"Empirical CDF\")\n",
    "plt.legend()\n",
    "plt.title(\"CDF\")\n",
    "plt.show()"
   ]
  },
  {
   "cell_type": "markdown",
   "id": "e89d7d86",
   "metadata": {},
   "source": [
    "### AIC"
   ]
  },
  {
   "cell_type": "code",
   "execution_count": 17,
   "id": "d0975095",
   "metadata": {},
   "outputs": [
    {
     "data": {
      "text/html": [
       "<div>\n",
       "<style scoped>\n",
       "    .dataframe tbody tr th:only-of-type {\n",
       "        vertical-align: middle;\n",
       "    }\n",
       "\n",
       "    .dataframe tbody tr th {\n",
       "        vertical-align: top;\n",
       "    }\n",
       "\n",
       "    .dataframe thead th {\n",
       "        text-align: right;\n",
       "    }\n",
       "</style>\n",
       "<table border=\"1\" class=\"dataframe\">\n",
       "  <thead>\n",
       "    <tr style=\"text-align: right;\">\n",
       "      <th></th>\n",
       "      <th>Model</th>\n",
       "      <th>AIC</th>\n",
       "    </tr>\n",
       "  </thead>\n",
       "  <tbody>\n",
       "    <tr>\n",
       "      <th>2</th>\n",
       "      <td>Alpha-Stable</td>\n",
       "      <td>-1208.646525</td>\n",
       "    </tr>\n",
       "    <tr>\n",
       "      <th>0</th>\n",
       "      <td>Merton</td>\n",
       "      <td>-1207.995465</td>\n",
       "    </tr>\n",
       "    <tr>\n",
       "      <th>1</th>\n",
       "      <td>GH</td>\n",
       "      <td>-1207.730682</td>\n",
       "    </tr>\n",
       "  </tbody>\n",
       "</table>\n",
       "</div>"
      ],
      "text/plain": [
       "          Model          AIC\n",
       "2  Alpha-Stable -1208.646525\n",
       "0        Merton -1207.995465\n",
       "1            GH -1207.730682"
      ]
     },
     "execution_count": 17,
     "metadata": {},
     "output_type": "execute_result"
    }
   ],
   "source": [
    "pd.DataFrame({\"Merton\":merton_model.aic,\"GH\":gh_model.aic,\"Alpha-Stable\":alpha_model.aic}.items(),\n",
    "             columns=[\"Model\",\"AIC\"]).sort_values(\"AIC\")"
   ]
  },
  {
   "cell_type": "markdown",
   "id": "3224cc12",
   "metadata": {},
   "source": [
    "## Pricing"
   ]
  },
  {
   "cell_type": "code",
   "execution_count": 54,
   "id": "8f2aa10d",
   "metadata": {},
   "outputs": [
    {
     "name": "stdout",
     "output_type": "stream",
     "text": [
      "127.1050033569336\n",
      "0.013333333333333334\n"
     ]
    }
   ],
   "source": [
    "r=1.5/100\n",
    "S0=initial_value\n",
    "K=initial_value\n",
    "T=10/750\n",
    "print(S0)\n",
    "print(T)"
   ]
  },
  {
   "cell_type": "markdown",
   "id": "71e9a244",
   "metadata": {},
   "source": [
    "###  Martingale corrections"
   ]
  },
  {
   "cell_type": "code",
   "execution_count": 55,
   "id": "d7b00534",
   "metadata": {},
   "outputs": [
    {
     "name": "stdout",
     "output_type": "stream",
     "text": [
      "(-0.0003764130433557739+0.0014446200692380127j)\n",
      "(0.0018969579789266157+0j)\n",
      "(0.13822098352426584+0j)\n"
     ]
    }
   ],
   "source": [
    "cf_stable_mcm = alpha_model.cf_stable(\n",
    "                        t=T,\n",
    "                        alpha=alpha_model.alpha,\n",
    "                        betta=alpha_model.betta,\n",
    "                        mu=alpha_model.mu-alpha_model.mcm,\n",
    "                        c=alpha_model.c)\n",
    "\n",
    "cf_mert_mcm = partial(merton_model.cf_mert,\n",
    "                       t=T,\n",
    "                       mu= merton_model.mu-merton_model.mcm,\n",
    "                       sig= merton_model.sig,\n",
    "                       lam= merton_model.lam,\n",
    "                       muJ= merton_model.muJ,\n",
    "                       sigJ= merton_model.sigJ)\n",
    "cf_GH_mcm = partial(gh_model.cf_GH,\n",
    "                    t=T,\n",
    "                    delta = gh_model.delta,               \n",
    "                    mu= gh_model.mu-gh_model.mcm,\n",
    "                    lam= gh_model.lam,\n",
    "                    alpha=gh_model.alpha,\n",
    "                    betta=gh_model.betta)\n",
    "print(alpha_model.mcm)\n",
    "print(merton_model.mcm)\n",
    "print(gh_model.mcm)"
   ]
  },
  {
   "cell_type": "markdown",
   "id": "4ed12f74",
   "metadata": {},
   "source": [
    "### Results"
   ]
  },
  {
   "cell_type": "code",
   "execution_count": 56,
   "id": "dd8859e6",
   "metadata": {},
   "outputs": [
    {
     "data": {
      "text/html": [
       "<div>\n",
       "<style scoped>\n",
       "    .dataframe tbody tr th:only-of-type {\n",
       "        vertical-align: middle;\n",
       "    }\n",
       "\n",
       "    .dataframe tbody tr th {\n",
       "        vertical-align: top;\n",
       "    }\n",
       "\n",
       "    .dataframe thead th {\n",
       "        text-align: right;\n",
       "    }\n",
       "</style>\n",
       "<table border=\"1\" class=\"dataframe\">\n",
       "  <thead>\n",
       "    <tr style=\"text-align: right;\">\n",
       "      <th></th>\n",
       "      <th>model</th>\n",
       "      <th>Call_Fourier</th>\n",
       "      <th>Call_MC</th>\n",
       "      <th>Put_Fourier</th>\n",
       "      <th>Put_MC</th>\n",
       "    </tr>\n",
       "  </thead>\n",
       "  <tbody>\n",
       "    <tr>\n",
       "      <th>0</th>\n",
       "      <td>Stable</td>\n",
       "      <td>0.043213</td>\n",
       "      <td>1.233471</td>\n",
       "      <td>0.017795</td>\n",
       "      <td>0.924378</td>\n",
       "    </tr>\n",
       "    <tr>\n",
       "      <th>1</th>\n",
       "      <td>Merton</td>\n",
       "      <td>0.135777</td>\n",
       "      <td>0.125814</td>\n",
       "      <td>0.110358</td>\n",
       "      <td>0.095602</td>\n",
       "    </tr>\n",
       "    <tr>\n",
       "      <th>2</th>\n",
       "      <td>GH</td>\n",
       "      <td>0.076095</td>\n",
       "      <td>4.221517</td>\n",
       "      <td>0.050677</td>\n",
       "      <td>4.312729</td>\n",
       "    </tr>\n",
       "  </tbody>\n",
       "</table>\n",
       "</div>"
      ],
      "text/plain": [
       "    model  Call_Fourier   Call_MC  Put_Fourier    Put_MC\n",
       "0  Stable      0.043213  1.233471     0.017795  0.924378\n",
       "1  Merton      0.135777  0.125814     0.110358  0.095602\n",
       "2      GH      0.076095  4.221517     0.050677  4.312729"
      ]
     },
     "execution_count": 56,
     "metadata": {},
     "output_type": "execute_result"
    }
   ],
   "source": [
    "data = [{'model': \"Stable\",\n",
    "         \"Call_Fourier\":utils.fourierPricer(K=K,S0=S0,r=r,cf=cf_stable_mcm,payoff=\"call\",T=T,udep=False),\n",
    "         \"Call_MC\":alpha_model.mcPricer(K=K,r=r,T=T,S0=S0,payoff=\"call\",N=10000)[0],\n",
    "         \"Put_Fourier\":utils.fourierPricer(K=K,S0=S0,r=r,cf=cf_stable_mcm,payoff=\"put\",T=T,udep=False),\n",
    "         \"Put_MC\":alpha_model.mcPricer(K=K,r=r,T=T,S0=S0,payoff=\"put\",N=10000)[0]},\n",
    "       {'model': \"Merton\",\n",
    "         \"Call_Fourier\":utils.fourierPricer(K=K,S0=S0,r=r,cf=cf_mert_mcm,payoff=\"call\",T=T,udep=True),\n",
    "         \"Call_MC\":merton_model.mcPricer(K=K,r=r,T=T,S0=S0,payoff=\"call\",N=10000)[0],\n",
    "         \"Put_Fourier\":utils.fourierPricer(K=K,S0=S0,r=r,cf=cf_mert_mcm,payoff=\"put\",T=T,udep=True),\n",
    "         \"Put_MC\":merton_model.mcPricer(K=K,r=r,T=T,S0=S0,payoff=\"put\",N=10000)[0]},\n",
    "       {'model': \"GH\",\n",
    "         \"Call_Fourier\":utils.fourierPricer(K=K,S0=S0,r=r,cf=cf_GH_mcm,payoff=\"call\",T=T,udep=True),\n",
    "         \"Call_MC\":gh_model.mcPricer(K=K,r=r,T=T,S0=S0,payoff=\"call\",N=1)[0],\n",
    "         \"Put_Fourier\":utils.fourierPricer(K=K,S0=S0,r=r,cf=cf_GH_mcm,payoff=\"put\",T=T,udep=True),\n",
    "         \"Put_MC\":gh_model.mcPricer(K=K,r=r,T=T,S0=S0,payoff=\"put\",N=1)[0]\n",
    "       }]\n",
    "        \n",
    "pd.DataFrame.from_dict(data)"
   ]
  },
  {
   "cell_type": "code",
   "execution_count": null,
   "id": "cddcfdd5",
   "metadata": {},
   "outputs": [],
   "source": []
  },
  {
   "cell_type": "code",
   "execution_count": null,
   "id": "b4e79d52",
   "metadata": {},
   "outputs": [],
   "source": []
  }
 ],
 "metadata": {
  "kernelspec": {
   "display_name": "Python 3",
   "language": "python",
   "name": "python3"
  },
  "language_info": {
   "codemirror_mode": {
    "name": "ipython",
    "version": 3
   },
   "file_extension": ".py",
   "mimetype": "text/x-python",
   "name": "python",
   "nbconvert_exporter": "python",
   "pygments_lexer": "ipython3",
   "version": "3.8.5"
  }
 },
 "nbformat": 4,
 "nbformat_minor": 5
}
